{
 "cells": [
  {
   "cell_type": "code",
   "execution_count": 49,
   "id": "2fcf6f97",
   "metadata": {},
   "outputs": [],
   "source": [
    "#pip install neo4j"
   ]
  },
  {
   "cell_type": "code",
   "execution_count": 50,
   "id": "39fdf6a5",
   "metadata": {},
   "outputs": [],
   "source": [
    "from neo4j import GraphDatabase"
   ]
  },
  {
   "cell_type": "code",
   "execution_count": 51,
   "id": "9afc1552",
   "metadata": {},
   "outputs": [],
   "source": [
    "uri = \"bolt://localhost:7687\"\n",
    "password = \"test\"\n",
    "graphDatabase_driver = GraphDatabase.driver(uri, auth=(\"neo4j\", password))"
   ]
  },
  {
   "cell_type": "code",
   "execution_count": 52,
   "id": "c1e2f850",
   "metadata": {},
   "outputs": [],
   "source": [
    "#Load Users\n",
    "qr_load_users = \"LOAD CSV WITH HEADERS FROM 'file:///Users.csv' AS line CREATE (user:Users{user_id:line.User_ID, location:line.Location, age:toInteger(line.Age)})\""
   ]
  },
  {
   "cell_type": "code",
   "execution_count": 53,
   "id": "822ca50d",
   "metadata": {},
   "outputs": [],
   "source": [
    "#Load book\n",
    "qr_load_books = \"LOAD CSV WITH HEADERS FROM 'file:///Books.csv' AS line CREATE (book:Books{isbn:line.ISBN, book_title:line.Book_Title, book_author:line.Book_Author, year_of_publication:line.Year_Of_Publication, publisher:line.Publisher, image_url_s:line.Image_URL_S, image_url_m:line.Image_URL_M, image_url_l:line.Image_URL_L})\""
   ]
  },
  {
   "cell_type": "code",
   "execution_count": 54,
   "id": "79d968f6",
   "metadata": {},
   "outputs": [],
   "source": [
    "#Load Ratigs\n",
    "qr_load_ratings = \"LOAD CSV WITH HEADERS FROM 'file:///Ratings.csv' AS line MERGE(user:Users{user_id:line.User_ID})  MERGE(book:Books{isbn:line.ISBN})  CREATE(rating:Ratings{book_rating:toInteger(line.Book_Rating)}) \\\n",
    "CREATE (book)-[:has]->(rating)\\\n",
    "CREATE (user)-[:make]->(rating)\""
   ]
  },
  {
   "cell_type": "code",
   "execution_count": 55,
   "id": "80e5883f",
   "metadata": {},
   "outputs": [],
   "source": [
    "query = \"MATCH (n) RETURN n\""
   ]
  },
  {
   "cell_type": "code",
   "execution_count": 56,
   "id": "6dafa5ad",
   "metadata": {},
   "outputs": [
    {
     "name": "stdout",
     "output_type": "stream",
     "text": [
      "3730\n"
     ]
    }
   ],
   "source": [
    "with graphDatabase_driver.session() as session:\n",
    "    result = session.run(query)\n",
    "    print(result.single())"
   ]
  }
 ],
 "metadata": {
  "kernelspec": {
   "display_name": "Python 3 (ipykernel)",
   "language": "python",
   "name": "python3"
  },
  "language_info": {
   "codemirror_mode": {
    "name": "ipython",
    "version": 3
   },
   "file_extension": ".py",
   "mimetype": "text/x-python",
   "name": "python",
   "nbconvert_exporter": "python",
   "pygments_lexer": "ipython3",
   "version": "3.10.1"
  }
 },
 "nbformat": 4,
 "nbformat_minor": 5
}
